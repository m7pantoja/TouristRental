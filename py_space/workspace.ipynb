{
 "cells": [
  {
   "cell_type": "code",
   "execution_count": 2,
   "metadata": {},
   "outputs": [],
   "source": [
    "import pandas as pd\n",
    "import numpy as np\n",
    "import matplotlib as mpl\n",
    "import matplotlib.pyplot as plt\n",
    "import seaborn as sns\n",
    "\n",
    "df_seville_2018 = pd.read_csv('data/clean_seville_2018.csv')\n",
    "df_seville_2022 = pd.read_csv('data/clean_seville_2022.csv')"
   ]
  },
  {
   "cell_type": "code",
   "execution_count": 30,
   "metadata": {},
   "outputs": [],
   "source": [
    "df_coincidences = pd.merge(df_seville_2018, df_seville_2022, on = 'Key', how = 'inner')\n",
    "df_coincidences.drop([11,31,61,73,74,81,102,138,151,187,224,241,311], axis = 0, inplace = True )\n",
    "df_coincidences.drop(columns = ['Fecha_Encuentro','Camas','Baños','Barrio_x','Barrio_y',\n",
    "                                'Precio/Capacidad_x','Precio/Capacidad_y', 'Min_Nights_x', \n",
    "                                'Min_Nights_y','Anuncios_Totales_del_Host','Host_Key_x',\n",
    "                                'Host_Key_y','Distrito_y','Tipo_Inmueble_y','Dormitorios_x',\n",
    "                                'Dormitorios_y'], inplace = True)\n",
    "df_coincidences.rename(columns={'Tipo_Inmueble_x':'Tipo_Inmueble',\n",
    "                                'Distrito_x':'Distrito'}, inplace = True)\n",
    "df_coincidences = df_coincidences.reindex(columns=['Key','Precio_x','Precio_y',\n",
    "                                                   'Distrito','Tipo_Inmueble','Capacidad_x','Capacidad_y'])"
   ]
  },
  {
   "attachments": {},
   "cell_type": "markdown",
   "metadata": {},
   "source": [
    "Variación porcentual del precio del alquiler turístico en Sevilla"
   ]
  },
  {
   "cell_type": "code",
   "execution_count": 50,
   "metadata": {},
   "outputs": [],
   "source": [
    "df_coincidences['Variacion_Relativa'] = (df_coincidences['Precio_y'] - df_coincidences['Precio_x'])/df_coincidences['Precio_x']\n",
    "\n",
    "gb_ti_coincidences = df_coincidences.groupby(by = 'Tipo_Inmueble')\n",
    "var_quantile_003 = gb_ti_coincidences['Variacion_Relativa'].quantile(0.03)\n",
    "var_quantile_097 = gb_ti_coincidences['Variacion_Relativa'].quantile(0.97)\n",
    "df_coincidences['In_Quantiles_Margin'] = df_coincidences.apply(lambda row : \n",
    "                                                       (row.Variacion_Relativa >= var_quantile_003[row.Tipo_Inmueble]) &\n",
    "                                                       (row.Variacion_Relativa <= var_quantile_097[row.Tipo_Inmueble]), axis =1)\n",
    "\n",
    "df_coincidences_truncated = df_coincidences[df_coincidences['In_Quantiles_Margin'] == True].drop(columns={'In_Quantiles_Margin'})"
   ]
  },
  {
   "cell_type": "code",
   "execution_count": 54,
   "metadata": {},
   "outputs": [
    {
     "data": {
      "text/plain": [
       "count    282.000000\n",
       "mean       0.237491\n",
       "std        0.336021\n",
       "min       -0.294416\n",
       "25%       -0.011836\n",
       "50%        0.166667\n",
       "75%        0.440731\n",
       "max        1.265823\n",
       "Name: Variacion_Relativa, dtype: float64"
      ]
     },
     "execution_count": 54,
     "metadata": {},
     "output_type": "execute_result"
    }
   ],
   "source": [
    "df_coincidences_truncated['Variacion_Relativa'].describe()"
   ]
  },
  {
   "attachments": {},
   "cell_type": "markdown",
   "metadata": {},
   "source": [
    "Sería interesante estudiar la variación de los anunciantes pre y post covid"
   ]
  }
 ],
 "metadata": {
  "kernelspec": {
   "display_name": "Python 3",
   "language": "python",
   "name": "python3"
  },
  "language_info": {
   "codemirror_mode": {
    "name": "ipython",
    "version": 3
   },
   "file_extension": ".py",
   "mimetype": "text/x-python",
   "name": "python",
   "nbconvert_exporter": "python",
   "pygments_lexer": "ipython3",
   "version": "3.11.0"
  },
  "orig_nbformat": 4
 },
 "nbformat": 4,
 "nbformat_minor": 2
}
